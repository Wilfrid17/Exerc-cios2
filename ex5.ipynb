{
 "cells": [
  {
   "cell_type": "markdown",
   "metadata": {},
   "source": [
    "Criando um registo de Hospedes\n"
   ]
  },
  {
   "cell_type": "code",
   "execution_count": 1,
   "metadata": {},
   "outputs": [],
   "source": [
    "quarto = [\n",
    "    [\"João\", \"cpf:000.000.000-00\"],\n",
    "    [\"Maria\", \"cpf:111.111.111.11\"],\n",
    "    [\"Julia\", \"cpf:222.222.222-22\"],\n",
    "    [\"Matheus\", \"cpf:333.333.333-33\"]\n",
    "]"
   ]
  },
  {
   "cell_type": "code",
   "execution_count": null,
   "metadata": {},
   "outputs": [],
   "source": [
    "#codigo\n",
    "qtde_hospede = int(input(\"Informe quantida de pessoa: \"))\n",
    "\n",
    "quarto = []\n",
    "\n",
    "for i in range(qtde_hospede):\n",
    "    nome = input(\"Qual o nome?: \")\n",
    "    cpf = input(\"Qual o cpf?: \")\n",
    "    hospede = [nome, \"cpf: {}\".format(cpf)]\n",
    "    quarto.append(hospede)\n",
    "print(quarto)"
   ]
  },
  {
   "cell_type": "markdown",
   "metadata": {},
   "source": [
    "Análise  de Vendas\n",
    "Temos uma lista de vendedores e os valores de vendas queremos identificar, quais vendedores que bateram a meta e qual foi o valor que eles vendem.\n"
   ]
  },
  {
   "cell_type": "code",
   "execution_count": null,
   "metadata": {},
   "outputs": [],
   "source": [
    "meta = 10000\n",
    "vendas = [\n",
    "    [\"João\", 15000],\n",
    "    [\"Maria\", 27000],\n",
    "    [\"Milena\", 9900],\n",
    "    [\"Maria\", 3750],\n",
    "    [\"Helena\", 10300],\n",
    "    [\"Christina\", 7870]\n",
    "]\n",
    "\n",
    "for item in vendas:\n",
    "    if item[1] >= meta:\n",
    "        print(f\"Vendor {item[0]} bateu a meta. Fez {item[1]} vendas\")"
   ]
  },
  {
   "cell_type": "markdown",
   "metadata": {},
   "source": [
    "Digamos que voce está analisando as vendas e produtos de um ecommerce e quer indentificar quais produtos tiveram no ano 2024 mais vendas do que no ano de 2023, para reporta isso para diretoria\n",
    "\n",
    "Sua resposta pode ser um print de cada produto,qual foi a venda de 2023, a venda de 2024 e ao % de crescimento de 2024 a 2023.\n",
    "Lembrando,para calcular o % de crescimento de produtode um ano para o outro. podemos fazer:(vendas_poduto2024/vendas_produto2023-1)"
   ]
  },
  {
   "cell_type": "code",
   "execution_count": null,
   "metadata": {},
   "outputs": [],
   "source": [
    "produtos = ['iphone', 'galaxy', 'ipad', 'tv', 'máquina de café', 'kindle', 'geladeira', 'adega', 'notebook dell', 'notebook hp', 'notebook asus', 'microsoft surface', 'webcam', 'caixa de som', 'microfone', 'câmera canon']\n",
    "vendas2023 = [558147,712350,573823,405252,718654,531580,973139,892292,422760,154753,887061,438508,237467,489705,328311,591120]\n",
    "vendas2024 = [951642,244295,26964,787604,867660,78830,710331,646016,694913,539704,324831,667179,295633,725316,644622,994303]\n",
    "#seu código aqui\n",
    "\n",
    "for i, produto in enumerate(produtos):\n",
    "    if vendas2024[i] > vendas2023[i]:\n",
    "        crescimento = vendas2024[i] / vendas2023[i] - 1\n",
    "        print(f\"{produto.capitalize()} vendeu R${vendas2023[i]:,} em 2023, R${vendas2024[i]:,} em 2024 e teve R${crescimento :.1%} de crescimento\")"
   ]
  }
 ],
 "metadata": {
  "kernelspec": {
   "display_name": "base",
   "language": "python",
   "name": "python3"
  },
  "language_info": {
   "codemirror_mode": {
    "name": "ipython",
    "version": 3
   },
   "file_extension": ".py",
   "mimetype": "text/x-python",
   "name": "python",
   "nbconvert_exporter": "python",
   "pygments_lexer": "ipython3",
   "version": "3.12.7"
  }
 },
 "nbformat": 4,
 "nbformat_minor": 2
}
