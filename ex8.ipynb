{
 "cells": [
  {
   "cell_type": "code",
   "execution_count": 1,
   "metadata": {},
   "outputs": [],
   "source": [
    "# Formas de interromper um Formas\n",
    "# break interrope e finaliza o For\n",
    "# continue interrompe e vai para proximo item do For\n",
    "\n",
    "vendas = [100,150,1500,2000,120]"
   ]
  },
  {
   "cell_type": "code",
   "execution_count": null,
   "metadata": {},
   "outputs": [
    {
     "name": "stdout",
     "output_type": "stream",
     "text": [
      "A loja não ganha bônus\n"
     ]
    }
   ],
   "source": [
    "#Exemplo break\n",
    "meta = 110\n",
    "\n",
    "for venda in vendas:\n",
    "    if venda < meta:\n",
    "        print(\"A loja não ganha bônus\")\n",
    "        break\n",
    "    print(venda)"
   ]
  },
  {
   "cell_type": "code",
   "execution_count": null,
   "metadata": {},
   "outputs": [
    {
     "name": "stdout",
     "output_type": "stream",
     "text": [
      "A Vendodor João não ganha bônus motivo não bateram meta a sua venda é R$100 pos a sua meta é R$130\n",
      "A Vendodor João não ganha bônus motivo não bateram meta a sua venda é R$100 pos a sua meta é R$130\n",
      "A Vendodor João não ganha bônus motivo não bateram meta a sua venda é R$100 pos a sua meta é R$130\n"
     ]
    }
   ],
   "source": [
    "#Exemplo continue\n",
    "vendedores = [\"João\", \"Julia\", \"Ana\", \"Jose\", \"Maria\"]\n",
    "meta = 130\n",
    "\n",
    "for venda in vendas:\n",
    "    if venda < meta:\n",
    "        continue\n",
    "    print(f\"A Vendodor {vendedores[0]} não ganha bônus motivo não bateram meta a sua venda é R${vendas[0]} pos a sua meta é R${meta}\")\n",
    " "
   ]
  }
 ],
 "metadata": {
  "kernelspec": {
   "display_name": "base",
   "language": "python",
   "name": "python3"
  },
  "language_info": {
   "codemirror_mode": {
    "name": "ipython",
    "version": 3
   },
   "file_extension": ".py",
   "mimetype": "text/x-python",
   "name": "python",
   "nbconvert_exporter": "python",
   "pygments_lexer": "ipython3",
   "version": "3.12.7"
  }
 },
 "nbformat": 4,
 "nbformat_minor": 2
}
