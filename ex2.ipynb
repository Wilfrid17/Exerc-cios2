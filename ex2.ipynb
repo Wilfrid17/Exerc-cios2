{
 "cells": [
  {
   "cell_type": "markdown",
   "metadata": {},
   "source": [
    "Estrutura:\n",
    "for item in lista:\n",
    "    if condicao:\n",
    "        faça alguma coisa\n",
    "    else:\n",
    "        outra coisa"
   ]
  },
  {
   "cell_type": "code",
   "execution_count": 1,
   "metadata": {},
   "outputs": [
    {
     "name": "stdout",
     "output_type": "stream",
     "text": [
      "O percentual do funcionarios bateu a meta é 27%\n"
     ]
    }
   ],
   "source": [
    "vendas = [1200,300,800,1500,1900,2750,400,20,23,70,90,80,1100,999,880,870,50,1111,120,300,450,800]\n",
    "meta = 1000\n",
    "\n",
    "qtd_bateu_meta = 0\n",
    "for venda in vendas:\n",
    "    if venda >= meta:\n",
    "        qtd_bateu_meta += 1\n",
    "      \n",
    "qtd_funcionarios = len(vendas)\n",
    "percentual = qtd_bateu_meta / qtd_funcionarios\n",
    "\n",
    "print(f\"O percentual do funcionarios bateu a meta é {percentual:.0%}\")\n"
   ]
  }
 ],
 "metadata": {
  "kernelspec": {
   "display_name": "base",
   "language": "python",
   "name": "python3"
  },
  "language_info": {
   "codemirror_mode": {
    "name": "ipython",
    "version": 3
   },
   "file_extension": ".py",
   "mimetype": "text/x-python",
   "name": "python",
   "nbconvert_exporter": "python",
   "pygments_lexer": "ipython3",
   "version": "3.12.7"
  }
 },
 "nbformat": 4,
 "nbformat_minor": 2
}
