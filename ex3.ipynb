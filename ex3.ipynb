{
 "cells": [
  {
   "cell_type": "markdown",
   "metadata": {},
   "source": [
    "Enumerate \n",
    "estrutura:\n",
    "o enumerate permite que voce percorre uma lista e ao mesmo tempo tenha em uma variavel o indice daquele item.\n",
    "\n",
    "for normalmente"
   ]
  },
  {
   "cell_type": "code",
   "execution_count": 1,
   "metadata": {},
   "outputs": [
    {
     "name": "stdout",
     "output_type": "stream",
     "text": [
      "Maria\n",
      "José\n",
      "Antonio\n",
      "Francisco\n",
      "Luiz\n",
      "Paulo\n",
      "Carlos\n",
      "Manuel\n",
      "Pedro\n"
     ]
    }
   ],
   "source": [
    "funcionarios = [\"Maria\", \"José\", \"Antonio\", \"Francisco\", \"Luiz\", \"Paulo\", \"Carlos\", \"Manuel\", \"Pedro\"]\n",
    "\n",
    "for funcionario in funcionarios:\n",
    "    print(funcionario)\n"
   ]
  },
  {
   "cell_type": "code",
   "execution_count": null,
   "metadata": {},
   "outputs": [],
   "source": [
    "funcionarios = [\"Maria\", \"José\", \"Antonio\", \"Francisco\", \"Luiz\", \"Paulo\", \"Carlos\", \"Manuel\", \"Pedro\"]\n",
    "\n",
    "for i, funcionario in enumerate(funcionarios):\n",
    "    print(f\"{i} é o funcionario {funcionario}\")"
   ]
  },
  {
   "cell_type": "code",
   "execution_count": 1,
   "metadata": {},
   "outputs": [
    {
     "name": "stdout",
     "output_type": "stream",
     "text": [
      "O produto agua está abaixo do nivel minimo estamos com 20 quantidades\n",
      "O produto del valle está abaixo do nivel minimo estamos com 23 quantidades\n"
     ]
    }
   ],
   "source": [
    "estoque = [1200,300,800,1500,1900,2750,400,20,23,70,90,80,1100,999,880,870,50,1111,120,300,450,800]\n",
    "produtos = [\"coca\",\"pepsi\",\"guarana\",\"fanta\", \"sprite\", \"skol\", \"brahma\", \"agua\", \"del valle\", \"dolly\", \"red bull\", \"cachaça\", \"vinho\"]\n",
    "nivel_minino = 50\n",
    "\n",
    "for i, qtd in enumerate(estoque):\n",
    "    if qtd < nivel_minino:\n",
    "     print(f\"O produto {produtos[i]} está abaixo do nivel minimo estamos com {qtd} quantidades\")"
   ]
  }
 ],
 "metadata": {
  "kernelspec": {
   "display_name": "base",
   "language": "python",
   "name": "python3"
  },
  "language_info": {
   "codemirror_mode": {
    "name": "ipython",
    "version": 3
   },
   "file_extension": ".py",
   "mimetype": "text/x-python",
   "name": "python",
   "nbconvert_exporter": "python",
   "pygments_lexer": "ipython3",
   "version": "3.12.7"
  }
 },
 "nbformat": 4,
 "nbformat_minor": 2
}
