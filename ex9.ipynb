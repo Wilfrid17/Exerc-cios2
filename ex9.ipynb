{
 "cells": [
  {
   "cell_type": "code",
   "execution_count": 1,
   "metadata": {},
   "outputs": [],
   "source": [
    "# 1. Faça um Programa que leia as vendas dos vendedores, mostre a venda de cada vendedor com o seu nome e a média de vendas. \n",
    "\n",
    "vendas = [1000, 1500, 1200, 1300]\n",
    "vendedores = [\"Fulano\", \"Beltrano\", \"Ciclano\", \"Lira\"]"
   ]
  },
  {
   "cell_type": "code",
   "execution_count": 2,
   "metadata": {},
   "outputs": [
    {
     "name": "stdout",
     "output_type": "stream",
     "text": [
      "Vendedores Fulano, Vendas 1000\n",
      "Vendedores Beltrano, Vendas 1500\n",
      "Vendedores Ciclano, Vendas 1200\n",
      "Vendedores Lira, Vendas 1300\n",
      "Media: 1250.0\n"
     ]
    }
   ],
   "source": [
    "media = 0\n",
    "for i in range(len(vendas)):\n",
    "    print(f\"Vendedores {vendedores[i]}, Vendas {vendas[i]}\")\n",
    "              \n",
    "media = sum(vendas) / len(vendas)\n",
    "print(f\"Media: {media}\")\n",
    "    "
   ]
  },
  {
   "cell_type": "code",
   "execution_count": 1,
   "metadata": {},
   "outputs": [
    {
     "name": "stdout",
     "output_type": "stream",
     "text": [
      "José  medias: 8.75\n",
      "Joana  medias: 6.5\n",
      "Maria  medias: 10.0\n",
      "Carla  medias: 6.75\n",
      "Mauricio  medias: 6.25\n",
      "Andre  medias: 7.25\n",
      "Tiago  medias: 7.5\n",
      "Enzo  medias: 6.5\n",
      "Amanda  medias: 7.5\n",
      "Alessandra  medias: 4.25\n",
      "5 alunos com média maior que 7\n"
     ]
    }
   ],
   "source": [
    "# 2. Faça um Programa que crie uma lista com as médias de cada aluno, imprima as médias de cada aluno e a quantidade de alunos com média maior que 7.\n",
    "\n",
    "alunos = [\"José\", \"Joana\", \"Maria\", \"Carla\", \"Mauricio\", \"Andre\", \"Tiago\", \"Enzo\", \"Amanda\", \"Alessandra\"]\n",
    "notas = [\n",
    "    [10, 9, 8, 8],\n",
    "    [9, 7, 6, 4],\n",
    "    [10, 10, 10, 10],\n",
    "    [5, 3, 10, 9],\n",
    "    [7, 6, 6, 6],\n",
    "    [7, 7, 8, 7],\n",
    "    [7, 7, 7, 9],\n",
    "    [8, 5, 6, 7],\n",
    "    [10, 9, 7, 4],\n",
    "    [10, 1, 3, 3],\n",
    "]\n",
    "\n",
    "medias = []\n",
    "\n",
    "for aluno in range(len(notas)):\n",
    "    media = sum(notas[aluno])/len(notas[aluno])\n",
    "    medias.append(media)\n",
    "    print(alunos[aluno], f\" medias: {media}\")\n",
    "\n",
    "count = 0\n",
    "\n",
    "for media in medias:\n",
    "    if media >= 7:\n",
    "        count += 1\n",
    "print(f\"{count} alunos com média maior que 7\")\n",
    "       "
   ]
  }
 ],
 "metadata": {
  "kernelspec": {
   "display_name": "base",
   "language": "python",
   "name": "python3"
  },
  "language_info": {
   "codemirror_mode": {
    "name": "ipython",
    "version": 3
   },
   "file_extension": ".py",
   "mimetype": "text/x-python",
   "name": "python",
   "nbconvert_exporter": "python",
   "pygments_lexer": "ipython3",
   "version": "3.12.7"
  }
 },
 "nbformat": 4,
 "nbformat_minor": 2
}
