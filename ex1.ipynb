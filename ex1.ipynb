{
 "cells": [
  {
   "cell_type": "markdown",
   "metadata": {},
   "source": [
    "Estrutura de repetição\n",
    "Funcionamento:\n",
    "\n",
    "for i in range(n):\n",
    "    repetir codigo n vezes"
   ]
  },
  {
   "cell_type": "code",
   "execution_count": null,
   "metadata": {},
   "outputs": [],
   "source": [
    "for i in range(10):\n",
    "    print(i)"
   ]
  },
  {
   "cell_type": "code",
   "execution_count": 24,
   "metadata": {},
   "outputs": [],
   "source": [
    "produtos = [\"coca\",\"pepsi\",\"guarana\",\"fanta\", \"sprite\"]\n",
    "producao = [15000, 12000, 13000, 5000, 250]"
   ]
  },
  {
   "cell_type": "code",
   "execution_count": 25,
   "metadata": {},
   "outputs": [
    {
     "name": "stdout",
     "output_type": "stream",
     "text": [
      "15000 unidade prodizido de coca\n",
      "12000 unidade prodizido de pepsi\n",
      "13000 unidade prodizido de guarana\n",
      "5000 unidade prodizido de fanta\n",
      "250 unidade prodizido de sprite\n"
     ]
    }
   ],
   "source": [
    "tamanho = len(produtos)\n",
    "for i in range(tamanho):\n",
    "    print(f\"{producao[i]} unidade prodizido de {produtos[i]}\")"
   ]
  },
  {
   "cell_type": "markdown",
   "metadata": {},
   "source": [
    "Estrutura:\n",
    "\n",
    "O for no Python consegue percorre uma lista e a cada \"loop\" retorna o valor do item\n",
    "\n",
    "exemplo:\n",
    "for i in range(5):\n",
    "    print(i)\n",
    "\n",
    "range(5) é na verdade uma lista do tipo: [0,1,2,3,4]"
   ]
  },
  {
   "cell_type": "markdown",
   "metadata": {},
   "source": [
    "Usando para listas:"
   ]
  },
  {
   "cell_type": "code",
   "execution_count": null,
   "metadata": {},
   "outputs": [],
   "source": [
    "produtos = [\"coca\",\"pepsi\",\"guarana\",\"fanta\", \"sprite\"]\n",
    "texto = \"wilfridsenatus@gmail.com\"\n",
    "\n",
    "for produto in produtos:\n",
    "    print(\"O produto é {}\".format(produto))\n",
    "\n",
    "for caracter in texto:\n",
    "    print(\"O caracter é {}\".format(caracter))\n"
   ]
  }
 ],
 "metadata": {
  "kernelspec": {
   "display_name": "base",
   "language": "python",
   "name": "python3"
  },
  "language_info": {
   "codemirror_mode": {
    "name": "ipython",
    "version": 3
   },
   "file_extension": ".py",
   "mimetype": "text/x-python",
   "name": "python",
   "nbconvert_exporter": "python",
   "pygments_lexer": "ipython3",
   "version": "3.12.7"
  }
 },
 "nbformat": 4,
 "nbformat_minor": 2
}
