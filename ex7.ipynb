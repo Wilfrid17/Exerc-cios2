{
 "cells": [
  {
   "cell_type": "code",
   "execution_count": 6,
   "metadata": {},
   "outputs": [],
   "source": [
    "# Exercicios\n",
    "# Calculando % de uma lista\n",
    "\n",
    "meta = 10000\n",
    "vendas =[\n",
    "    [\"João\",15000],\n",
    "    [\"Julia\", 27000],\n",
    "    [\"Mauro\", 9900],\n",
    "    [\"Maria\", 3750],\n",
    "    [\"Ana\", 10300],\n",
    "    [\"Jhon\", 7870]\n",
    "]"
   ]
  },
  {
   "cell_type": "code",
   "execution_count": 12,
   "metadata": {},
   "outputs": [
    {
     "name": "stdout",
     "output_type": "stream",
     "text": [
      "Sao 50.0% Vendores bateram a meta\n"
     ]
    }
   ],
   "source": [
    "qtde_venderores_acima_meta = 0\n",
    "\n",
    "for venda in vendas:\n",
    "    if venda[1] >= meta:\n",
    "        qtde_venderores_acima_meta += 1\n",
    "        tamanho = qtde_venderores_acima_meta / len(vendas)\n",
    "print(f\"Sao {tamanho:.1%} Vendores bateram a meta\")\n"
   ]
  },
  {
   "cell_type": "code",
   "execution_count": null,
   "metadata": {},
   "outputs": [
    {
     "name": "stdout",
     "output_type": "stream",
     "text": [
      "O Melhor vendor foi Julia com 27000 vendas.\n"
     ]
    }
   ],
   "source": [
    "melhor_vendedor = []\n",
    "maior_venda = 0\n",
    "\n",
    "for venda in vendas:\n",
    "    if venda[1] > maior_venda:\n",
    "        maior_venda = venda[1]\n",
    "        melhor_vendedor = venda[0]\n",
    "print(f\"O Melhor vendedor foi {melhor_vendedor} com {maior_venda} vendas.\")\n",
    "\n"
   ]
  }
 ],
 "metadata": {
  "kernelspec": {
   "display_name": "base",
   "language": "python",
   "name": "python3"
  },
  "language_info": {
   "codemirror_mode": {
    "name": "ipython",
    "version": 3
   },
   "file_extension": ".py",
   "mimetype": "text/x-python",
   "name": "python",
   "nbconvert_exporter": "python",
   "pygments_lexer": "ipython3",
   "version": "3.12.7"
  }
 },
 "nbformat": 4,
 "nbformat_minor": 2
}
